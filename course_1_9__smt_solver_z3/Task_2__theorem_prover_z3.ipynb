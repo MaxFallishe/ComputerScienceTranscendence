{
 "cells": [
  {
   "cell_type": "markdown",
   "metadata": {},
   "source": [
    "# Решение задач с помощью z3 солвер"
   ]
  },
  {
   "cell_type": "code",
   "execution_count": 3,
   "metadata": {},
   "outputs": [],
   "source": [
    "from z3 import *"
   ]
  },
  {
   "cell_type": "markdown",
   "metadata": {},
   "source": [
    "## Задача 1\n",
    "\n",
    "По тропинке вдоль кустов  \n",
    "Шли 11 хвостов.  \n",
    "Сосчитать я также смог,  \n",
    "Что шагало 30 ног.  \n",
    "Это вместе шли куда-то  \n",
    "Петухи и поросята.  \n",
    "А теперь вопрос таков:  \n",
    "Сколько было петухов?  \n",
    "И узнать я был бы рад,  \n",
    "Сколько было поросят?  "
   ]
  },
  {
   "cell_type": "code",
   "execution_count": 32,
   "metadata": {},
   "outputs": [],
   "source": [
    "# INPUT DATA\n",
    "\n",
    "# You can put here your custom number of legs sum and tails sum\n",
    "tails_count = 400002\n",
    "legs_count = 900000"
   ]
  },
  {
   "cell_type": "code",
   "execution_count": 35,
   "metadata": {},
   "outputs": [
    {
     "name": "stdout",
     "output_type": "stream",
     "text": [
      "[roosters_count = 350004, pigs_count = 49998]\n"
     ]
    }
   ],
   "source": [
    "# PROBLEM SOLVING\n",
    "\n",
    "# Setup variables which denote amount of pigs and roosters separetely\n",
    "pigs_count = Int('pigs_count')\n",
    "roosters_count = Int('roosters_count')\n",
    "\n",
    "# Setup values\n",
    "sum_of_tails = IntVal(tails_count)\n",
    "sum_of_legs = IntVal(legs_count)\n",
    "\n",
    "sum_of_pigs_tails = pigs_count * 1  # each pig always have only 1 tail\n",
    "sum_of_roosters_tails = roosters_count * 1  # each rooster always have only 1 tail\n",
    "sum_of_pigs_legs = pigs_count * 4  # each pig always have 4 legs\n",
    "sum_of_roosters_legs  = roosters_count * 2  # each rooster always have 2 legs\n",
    "\n",
    "conditions = [\n",
    "    sum_of_pigs_tails + sum_of_roosters_tails == sum_of_tails, \n",
    "    sum_of_pigs_legs + sum_of_roosters_legs == sum_of_legs,\n",
    "    pigs_count >= 1,\n",
    "    roosters_count >= 1,\n",
    "]\n",
    "\n",
    "solve(conditions)"
   ]
  },
  {
   "cell_type": "markdown",
   "metadata": {},
   "source": [
    "## Задача 2\n",
    "\n",
    "Найдите значение последнего выражения, а также какое число представляет каждое эмоджи:   \n",
    "🍓 + 🍇 * 🍓 = 55   \n",
    "🍉 + 🍓 + 🥭 = 12   \n",
    "🥭 + 🍇 - 🍉 = 9   \n",
    "🍇 - 🥭 + 🍉 = 11   \n",
    "🥭 + 🍉 * 🍇 = ?   "
   ]
  },
  {
   "cell_type": "code",
   "execution_count": 66,
   "metadata": {},
   "outputs": [
    {
     "name": "stdout",
     "output_type": "stream",
     "text": [
      "ANSWER IS: 43\n",
      "Strawberry: 5\n",
      "Grape: 10\n",
      "Watermelon: 4\n",
      "Mango: 3\n"
     ]
    }
   ],
   "source": [
    "# Setup variables\n",
    "strawberry = Int('strawberry')\n",
    "grape = Int('grape')\n",
    "watermelon = Int('watermelon')\n",
    "mango = Int('mango')    \n",
    "result = Int('result')\n",
    " \n",
    "    \n",
    "# Setup an expression that could be fed to a solver\n",
    "conditions = [\n",
    "    strawberry + grape * strawberry == 55,\n",
    "    watermelon + strawberry + mango == 12,\n",
    "    mango + grape - watermelon == 9,\n",
    "    grape - mango + watermelon == 11,\n",
    "    mango + watermelon * grape == result\n",
    "    \n",
    "]\n",
    "\n",
    "s = Solver()\n",
    "s.add(conditions)\n",
    "is_sat = s.check()  # check if solution exist\n",
    "\n",
    "\n",
    "solution = s.model()\n",
    "print(\"ANSWER IS:\", solution[result])\n",
    "print(\"Strawberry:\", solution[strawberry])\n",
    "print(\"Grape:\", solution[grape])\n",
    "print(\"Watermelon:\", solution[watermelon])\n",
    "print(\"Mango:\", solution[mango])"
   ]
  },
  {
   "cell_type": "code",
   "execution_count": null,
   "metadata": {},
   "outputs": [],
   "source": []
  },
  {
   "cell_type": "code",
   "execution_count": null,
   "metadata": {},
   "outputs": [],
   "source": []
  },
  {
   "cell_type": "code",
   "execution_count": null,
   "metadata": {},
   "outputs": [],
   "source": []
  },
  {
   "cell_type": "code",
   "execution_count": null,
   "metadata": {},
   "outputs": [],
   "source": []
  }
 ],
 "metadata": {
  "kernelspec": {
   "display_name": "Python 3 (ipykernel)",
   "language": "python",
   "name": "python3"
  },
  "language_info": {
   "codemirror_mode": {
    "name": "ipython",
    "version": 3
   },
   "file_extension": ".py",
   "mimetype": "text/x-python",
   "name": "python",
   "nbconvert_exporter": "python",
   "pygments_lexer": "ipython3",
   "version": "3.8.0"
  }
 },
 "nbformat": 4,
 "nbformat_minor": 4
}

{
 "cells": [
  {
   "cell_type": "markdown",
   "id": "44deafa9",
   "metadata": {},
   "source": [
    "#  Стратегии и тактики в SMT-солверах"
   ]
  },
  {
   "cell_type": "markdown",
   "id": "abd1695e",
   "metadata": {},
   "source": [
    "## Вывод\n",
    "\n",
    "Общая схема работы солвера Z3 заключается в том, что он управляет набором движков логического вывода (оркестровка). На верхнем уровне абстракций данного движка \"большие\" логические шаги решения представляются как функции, называемые \"тактики\". Сами тактики объединяются с помощью так называемых тактических указаний или комбинаторов. Тактики обрабатывают системы ограничений (цели). \n",
    "\n",
    "В теории, когда мы упрощаем цель до последовательности подцелей, мы сталкиваемся с проблемой преобразования нашей модели (системы ограничений) под требования конкретной подцепи. Для этого в солверах существует внутренний преобразователь моделей.\n",
    "\n",
    "Существует возможность вручную задать последовательность и типы стратегий, которые будут использоваться для сформулированой задачи (системы ограничений). Однако в рамках моих попыток, не удалось найти наглядные примеры (сформулировать задачи), которые бы показывали, как эффективно использовать ручную настройку тактик вместо использования стандартного метода `solve(conditions)` из Z3, где `conditions` - это набор ограничений."
   ]
  },
  {
   "cell_type": "code",
   "execution_count": null,
   "id": "d1c86b1d",
   "metadata": {},
   "outputs": [],
   "source": []
  },
  {
   "cell_type": "code",
   "execution_count": null,
   "id": "9d5b2652",
   "metadata": {},
   "outputs": [],
   "source": []
  },
  {
   "cell_type": "code",
   "execution_count": null,
   "id": "f3101ca5",
   "metadata": {},
   "outputs": [],
   "source": []
  },
  {
   "cell_type": "code",
   "execution_count": null,
   "id": "9289ffe8",
   "metadata": {},
   "outputs": [],
   "source": []
  },
  {
   "cell_type": "code",
   "execution_count": null,
   "id": "07c75359",
   "metadata": {},
   "outputs": [],
   "source": []
  },
  {
   "cell_type": "code",
   "execution_count": null,
   "id": "cfd274a3",
   "metadata": {},
   "outputs": [],
   "source": []
  },
  {
   "cell_type": "code",
   "execution_count": null,
   "id": "833c648c",
   "metadata": {},
   "outputs": [],
   "source": []
  },
  {
   "cell_type": "code",
   "execution_count": null,
   "id": "2dae0735",
   "metadata": {},
   "outputs": [],
   "source": []
  }
 ],
 "metadata": {
  "kernelspec": {
   "display_name": "Python 3 (ipykernel)",
   "language": "python",
   "name": "python3"
  },
  "language_info": {
   "codemirror_mode": {
    "name": "ipython",
    "version": 3
   },
   "file_extension": ".py",
   "mimetype": "text/x-python",
   "name": "python",
   "nbconvert_exporter": "python",
   "pygments_lexer": "ipython3",
   "version": "3.8.0"
  }
 },
 "nbformat": 4,
 "nbformat_minor": 5
}

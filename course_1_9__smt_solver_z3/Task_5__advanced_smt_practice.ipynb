{
 "cells": [
  {
   "cell_type": "markdown",
   "id": "e3fe19e1",
   "metadata": {
    "collapsed": true
   },
   "source": [
    "# 1. Выражения, сорта и декларации"
   ]
  },
  {
   "cell_type": "code",
   "execution_count": null,
   "id": "ccba53d1",
   "metadata": {},
   "outputs": [],
   "source": []
  },
  {
   "cell_type": "code",
   "execution_count": null,
   "id": "2d184167",
   "metadata": {},
   "outputs": [],
   "source": []
  },
  {
   "cell_type": "markdown",
   "id": "8705b650",
   "metadata": {},
   "source": [
    "# 2. Массивы"
   ]
  },
  {
   "cell_type": "code",
   "execution_count": null,
   "id": "03612826",
   "metadata": {},
   "outputs": [],
   "source": []
  },
  {
   "cell_type": "code",
   "execution_count": null,
   "id": "c6acc2eb",
   "metadata": {},
   "outputs": [],
   "source": []
  },
  {
   "cell_type": "markdown",
   "id": "2160f51f",
   "metadata": {},
   "source": [
    "# 3. Кванторы"
   ]
  },
  {
   "cell_type": "code",
   "execution_count": null,
   "id": "93ae5a8f",
   "metadata": {},
   "outputs": [],
   "source": []
  },
  {
   "cell_type": "code",
   "execution_count": null,
   "id": "c05f71d8",
   "metadata": {},
   "outputs": [],
   "source": []
  },
  {
   "cell_type": "markdown",
   "id": "9011baab",
   "metadata": {},
   "source": [
    "# 4. Оптимизация"
   ]
  },
  {
   "cell_type": "code",
   "execution_count": null,
   "id": "39e1d644",
   "metadata": {},
   "outputs": [],
   "source": []
  },
  {
   "cell_type": "code",
   "execution_count": null,
   "id": "dfab7871",
   "metadata": {},
   "outputs": [],
   "source": []
  },
  {
   "cell_type": "markdown",
   "id": "1a112a75",
   "metadata": {},
   "source": [
    "# 5. Множественные солверы"
   ]
  },
  {
   "cell_type": "code",
   "execution_count": null,
   "id": "40fdcfe7",
   "metadata": {},
   "outputs": [],
   "source": []
  },
  {
   "cell_type": "code",
   "execution_count": null,
   "id": "01f35ce2",
   "metadata": {},
   "outputs": [],
   "source": []
  }
 ],
 "metadata": {
  "kernelspec": {
   "display_name": "Python 3 (ipykernel)",
   "language": "python",
   "name": "python3"
  },
  "language_info": {
   "codemirror_mode": {
    "name": "ipython",
    "version": 3
   },
   "file_extension": ".py",
   "mimetype": "text/x-python",
   "name": "python",
   "nbconvert_exporter": "python",
   "pygments_lexer": "ipython3",
   "version": "3.8.0"
  }
 },
 "nbformat": 4,
 "nbformat_minor": 5
}

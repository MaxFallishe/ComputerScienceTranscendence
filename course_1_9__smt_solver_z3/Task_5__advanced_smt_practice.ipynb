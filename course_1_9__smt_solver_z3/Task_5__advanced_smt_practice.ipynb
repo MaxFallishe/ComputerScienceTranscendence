{
 "cells": [
  {
   "cell_type": "code",
   "execution_count": 1,
   "id": "fba4aad0",
   "metadata": {},
   "outputs": [],
   "source": [
    "# base setup\n",
    "from z3 import *"
   ]
  },
  {
   "cell_type": "markdown",
   "id": "ae6c7d2c",
   "metadata": {
    "collapsed": true
   },
   "source": [
    "# 1. Выражения, сорта и декларации"
   ]
  },
  {
   "cell_type": "markdown",
   "id": "0a955e52",
   "metadata": {},
   "source": [
    "Выражения, сорта и декларации в Z3 доступны в качестве абстрактных синтаксических деревьев (ASTs)."
   ]
  },
  {
   "cell_type": "markdown",
   "id": "7f458a21",
   "metadata": {},
   "source": [
    "**Задача №1**\n",
    "Представим мы проектируем DSL, в котором разрешено объявлять пользовательсик функции. Каждая функция должна иметь строгую сигнатуру: заранее известное число аргументов и типы этих аргументов.  \n",
    "Передается выражения, к примеру `f(x, y)` или `f(x, 2.5)` - после чего необходимо проверить корректность применения функции, а именно действительно ли `.decl()` из `f(x, y)` совпадает с самой функцией `f` через `eq()`.\n",
    "\n",
    "P.S. приложение - вызов функции или использование оператора с аргументами."
   ]
  },
  {
   "cell_type": "code",
   "execution_count": 6,
   "id": "065e56e5",
   "metadata": {},
   "outputs": [
    {
     "name": "stdout",
     "output_type": "stream",
     "text": [
      "Cовпадает ли декларация: True\n"
     ]
    }
   ],
   "source": [
    "from z3 import *\n",
    "\n",
    "# Объявление переменных\n",
    "x, y = Ints('x y')\n",
    "\n",
    "# Объявление функции f: (Int, Real) -> Bool\n",
    "f = Function('f', IntSort(), RealSort(), BoolSort())\n",
    "\n",
    "# Инициализация приложения\n",
    "app = f(x, ToReal(y))\n",
    "\n",
    "\n",
    "# РЕШЕНИЕ\n",
    "print(\"Cовпадает ли декларация:\", eq(f, app.decl()))"
   ]
  },
  {
   "cell_type": "markdown",
   "id": "d0734398",
   "metadata": {},
   "source": [
    "**Задача №2**\n",
    "Необходимо создать утверждение с квантором:\n",
    "$$∀x ∈ ℤ, ∃y ∈ ℤ. f(x, ToReal(y)) == True$$\n",
    "\n",
    "P.S. кванторы это - конструкции помогающие выражать обобщения\n",
    "     утверждение это - что-то что можно проверить на истинность"
   ]
  },
  {
   "cell_type": "code",
   "execution_count": 9,
   "id": "05310eac",
   "metadata": {},
   "outputs": [
    {
     "name": "stdout",
     "output_type": "stream",
     "text": [
      "Формула с кванторами: ForAll(x, Exists(y, f(x, ToReal(y)) == True))\n",
      "Формула опровергается при: [f = [else -> False]]\n"
     ]
    }
   ],
   "source": [
    "# РЕШЕНИЕ\n",
    "quantified = ForAll([x], Exists([y], f(x, ToReal(y)) == True))\n",
    "print(\"Формула с кванторами:\", quantified)\n",
    "\n",
    "# Проверка выполнимости\n",
    "s = Solver()\n",
    "s.add(Not(quantified))\n",
    "if s.check() == sat:\n",
    "    print(\"Формула опровергается при:\", s.model())"
   ]
  },
  {
   "cell_type": "markdown",
   "id": "2135bce8",
   "metadata": {},
   "source": [
    "# 2. Массивы"
   ]
  },
  {
   "cell_type": "markdown",
   "id": "84f0083a",
   "metadata": {},
   "source": [
    "**Задача №1** Проверка согласованности истории логов. Здесь мы можем представить логи в качества массивов. Каждый элемент массива `log[i]`- это результат выполнения команды с номером `i`. Необходимо определить механику перезаписи лога и противоречит ли оно логике ниже:   \n",
    "```\n",
    "Если две команды `i` и `j` записывают разные значения в один и тот же слот и `i < j`, то после команды `j` в этом слоте должно быть второе значение.\n",
    "```"
   ]
  },
  {
   "cell_type": "code",
   "execution_count": 16,
   "id": "18a31882",
   "metadata": {},
   "outputs": [
    {
     "name": "stdout",
     "output_type": "stream",
     "text": [
      "proved\n"
     ]
    }
   ],
   "source": [
    "# Абстракция слота\n",
    "slot = Int('slot')\n",
    "\n",
    "# Команды\n",
    "i, j = Ints('i j')\n",
    "v1, v2 = Ints('v1 v2')\n",
    "\n",
    "# Исходный массив с логами\n",
    "log = Array('log', IntSort(), IntSort())\n",
    "\n",
    "# После команды i\n",
    "log_i = Store(log, slot, v1)\n",
    "\n",
    "# После команды j\n",
    "log_j = Store(log_i, slot, v2)\n",
    "\n",
    "# Проверка утверждения что после j в этом слоте должно быть v2\n",
    "assertion = Implies(\n",
    "    And(i < j, v1 != v2),\n",
    "    Select(log_j, slot) == v2\n",
    ")\n",
    "\n",
    "# Проверка доказуемости\n",
    "prove(assertion)  # должно вывести `proved`"
   ]
  },
  {
   "cell_type": "markdown",
   "id": "c5d3605b",
   "metadata": {},
   "source": [
    "**Задача №2** Данная задача является продолжением второй, только теперь необходимо доказать что: \n",
    "\n",
    "```\n",
    "Если i != j и Select(Store(log, i, v1), j) != Select(Store(log, j, v2), j) → значит был конфликт.\n",
    "```"
   ]
  },
  {
   "cell_type": "code",
   "execution_count": 18,
   "id": "8f67943f",
   "metadata": {},
   "outputs": [
    {
     "name": "stdout",
     "output_type": "stream",
     "text": [
      "proved\n"
     ]
    }
   ],
   "source": [
    "# Переменные\n",
    "i, j, v1, v2 = Ints('i j v1 v2')\n",
    "log = Array('log', IntSort(), IntSort())\n",
    "\n",
    "# Два разных состояния массива\n",
    "log_i = Store(log, i, v1)  # запись v1 по индексу i\n",
    "log_j = Store(log, j, v2)  # запись v2 по индексу j\n",
    "\n",
    "# Значения при чтении по j индексу\n",
    "val_from_i = Select(log_i, j)\n",
    "val_from_j = Select(log_j, j)\n",
    "\n",
    "# Формулировка утверждения\n",
    "conflict_detected = Implies(\n",
    "    And(i != j, val_from_i != val_from_j),\n",
    "    True  # если условие верно — конфликт точно есть\n",
    ")\n",
    "\n",
    "# Проверка на логическое тождество\n",
    "prove(conflict_detected)"
   ]
  },
  {
   "cell_type": "markdown",
   "id": "78c2bc62",
   "metadata": {},
   "source": [
    "# 3. Кванторы"
   ]
  },
  {
   "cell_type": "markdown",
   "id": "c4978737",
   "metadata": {},
   "source": [
    "**Задача №1** Представим что мы моделируем систему типов с подтипизацией и ковариантностью массивов.   \n",
    "Нужно проверить: при любых x и y, если y является подтипом x, то array_of(y) можно использовать там, где требуется array_of(x)"
   ]
  },
  {
   "cell_type": "code",
   "execution_count": 21,
   "id": "397713db",
   "metadata": {},
   "outputs": [
    {
     "name": "stdout",
     "output_type": "stream",
     "text": [
      "Нарушение ковариантности, контрпример:\n",
      "[subtype = [(Type!val!2, Type!val!3) -> False, else -> True],\n",
      " array_of = [Type!val!1 -> Type!val!3, else -> Type!val!2]]\n"
     ]
    }
   ],
   "source": [
    "# РЕШЕНИЕ\n",
    "# Объектный тип\n",
    "Type = DeclareSort('Type')\n",
    "\n",
    "# Функции\n",
    "subtype = Function('subtype', Type, Type, BoolSort())\n",
    "array_of = Function('array_of', Type, Type)\n",
    "\n",
    "# Переменные\n",
    "x, y = Consts('x y', Type)\n",
    "\n",
    "# Формирование тверждения\n",
    "covariance = ForAll([x, y], Implies(subtype(y, x), subtype(array_of(y), array_of(x))))\n",
    "\n",
    "s = Solver()\n",
    "s.add(Not(covariance))  # .add на поиск контрпримера\n",
    "\n",
    "# Основная проверка\n",
    "if s.check() == unsat:\n",
    "    print(\"Свойство ковариантности доказано\")\n",
    "else:\n",
    "    print(\"Нарушение ковариантности, контрпример:\")\n",
    "    print(s.model())"
   ]
  },
  {
   "cell_type": "markdown",
   "id": "6db2c80f",
   "metadata": {},
   "source": [
    "# 4. Оптимизация"
   ]
  },
  {
   "cell_type": "code",
   "execution_count": null,
   "id": "d12e74dd",
   "metadata": {},
   "outputs": [],
   "source": []
  },
  {
   "cell_type": "code",
   "execution_count": null,
   "id": "c661f675",
   "metadata": {},
   "outputs": [],
   "source": []
  },
  {
   "cell_type": "markdown",
   "id": "d096c4dc",
   "metadata": {},
   "source": [
    "# 5. Множественные солверы"
   ]
  },
  {
   "cell_type": "code",
   "execution_count": null,
   "id": "0ab97d46",
   "metadata": {},
   "outputs": [],
   "source": []
  },
  {
   "cell_type": "code",
   "execution_count": null,
   "id": "45b94a50",
   "metadata": {},
   "outputs": [],
   "source": []
  }
 ],
 "metadata": {
  "kernelspec": {
   "display_name": "Python 3 (ipykernel)",
   "language": "python",
   "name": "python3"
  },
  "language_info": {
   "codemirror_mode": {
    "name": "ipython",
    "version": 3
   },
   "file_extension": ".py",
   "mimetype": "text/x-python",
   "name": "python",
   "nbconvert_exporter": "python",
   "pygments_lexer": "ipython3",
   "version": "3.8.0"
  }
 },
 "nbformat": 4,
 "nbformat_minor": 5
}
